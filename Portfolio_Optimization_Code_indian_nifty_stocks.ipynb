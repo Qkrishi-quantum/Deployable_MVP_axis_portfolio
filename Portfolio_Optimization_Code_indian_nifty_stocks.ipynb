{
  "cells": [
    {
      "cell_type": "markdown",
      "id": "WUiv1KfK7PBT",
      "metadata": {
        "id": "WUiv1KfK7PBT"
      },
      "source": [
        "Reference: https://learning.quantum.ibm.com/tutorial/quantum-approximate-optimization-algorithm#step-4-post-process-return-result-in-classical-format\n",
        "\n",
        "environment variables: https://dev.to/jakewitcher/using-env-files-for-environment-variables-in-python-applications-55a1"
      ]
    },
    {
      "cell_type": "code",
      "execution_count": 6,
      "id": "4142877e-54ed-41c0-92f7-a07b6e91b4ee",
      "metadata": {
        "colab": {
          "base_uri": "https://localhost:8080/"
        },
        "id": "4142877e-54ed-41c0-92f7-a07b6e91b4ee",
        "outputId": "745aa54a-503f-4b8e-bdbd-4bf47a36f401"
      },
      "outputs": [
        {
          "name": "stdout",
          "output_type": "stream",
          "text": [
            "\u001b[2K     \u001b[90m━━━━━━━━━━━━━━━━━━━━━━━━━━━━━━━━━━━━━━━━\u001b[0m \u001b[32m5.6/5.6 MB\u001b[0m \u001b[31m41.5 MB/s\u001b[0m eta \u001b[36m0:00:00\u001b[0m\n",
            "\u001b[2K     \u001b[90m━━━━━━━━━━━━━━━━━━━━━━━━━━━━━━━━━━━━━━━━\u001b[0m \u001b[32m2.1/2.1 MB\u001b[0m \u001b[31m66.9 MB/s\u001b[0m eta \u001b[36m0:00:00\u001b[0m\n",
            "\u001b[2K     \u001b[90m━━━━━━━━━━━━━━━━━━━━━━━━━━━━━━━━━━━━━━━━\u001b[0m \u001b[32m116.3/116.3 kB\u001b[0m \u001b[31m14.4 MB/s\u001b[0m eta \u001b[36m0:00:00\u001b[0m\n",
            "\u001b[2K     \u001b[90m━━━━━━━━━━━━━━━━━━━━━━━━━━━━━━━━━━━━━━━━\u001b[0m \u001b[32m49.7/49.7 kB\u001b[0m \u001b[31m6.8 MB/s\u001b[0m eta \u001b[36m0:00:00\u001b[0m\n",
            "\u001b[2K     \u001b[90m━━━━━━━━━━━━━━━━━━━━━━━━━━━━━━━━━━━━━━━━\u001b[0m \u001b[32m39.4/39.4 MB\u001b[0m \u001b[31m16.6 MB/s\u001b[0m eta \u001b[36m0:00:00\u001b[0m\n",
            "\u001b[2K     \u001b[90m━━━━━━━━━━━━━━━━━━━━━━━━━━━━━━━━━━━━━━━━\u001b[0m \u001b[32m107.5/107.5 kB\u001b[0m \u001b[31m15.4 MB/s\u001b[0m eta \u001b[36m0:00:00\u001b[0m\n",
            "\u001b[2K     \u001b[90m━━━━━━━━━━━━━━━━━━━━━━━━━━━━━━━━━━━━━━━━\u001b[0m \u001b[32m167.6/167.6 kB\u001b[0m \u001b[31m4.4 MB/s\u001b[0m eta \u001b[36m0:00:00\u001b[0m\n",
            "\u001b[2K     \u001b[90m━━━━━━━━━━━━━━━━━━━━━━━━━━━━━━━━━━━━━━━━\u001b[0m \u001b[32m308.6/308.6 kB\u001b[0m \u001b[31m16.7 MB/s\u001b[0m eta \u001b[36m0:00:00\u001b[0m\n",
            "\u001b[2K     \u001b[90m━━━━━━━━━━━━━━━━━━━━━━━━━━━━━━━━━━━━━━━━\u001b[0m \u001b[32m633.5/633.5 kB\u001b[0m \u001b[31m43.9 MB/s\u001b[0m eta \u001b[36m0:00:00\u001b[0m\n",
            "\u001b[?25h  Preparing metadata (setup.py) ... \u001b[?25l\u001b[?25hdone\n",
            "  Building wheel for docplex (setup.py) ... \u001b[?25l\u001b[?25hdone\n",
            "\u001b[2K     \u001b[90m━━━━━━━━━━━━━━━━━━━━━━━━━━━━━━━━━━━━━━━━\u001b[0m \u001b[32m3.0/3.0 MB\u001b[0m \u001b[31m25.7 MB/s\u001b[0m eta \u001b[36m0:00:00\u001b[0m\n",
            "\u001b[2K     \u001b[90m━━━━━━━━━━━━━━━━━━━━━━━━━━━━━━━━━━━━━━━━\u001b[0m \u001b[32m315.8/315.8 kB\u001b[0m \u001b[31m24.8 MB/s\u001b[0m eta \u001b[36m0:00:00\u001b[0m\n",
            "\u001b[?25h  Installing build dependencies ... \u001b[?25l\u001b[?25hdone\n",
            "  Getting requirements to build wheel ... \u001b[?25l\u001b[?25hdone\n",
            "  Preparing metadata (pyproject.toml) ... \u001b[?25l\u001b[?25hdone\n",
            "\u001b[2K     \u001b[90m━━━━━━━━━━━━━━━━━━━━━━━━━━━━━━━━━━━━━━━━\u001b[0m \u001b[32m62.0/62.0 kB\u001b[0m \u001b[31m7.0 MB/s\u001b[0m eta \u001b[36m0:00:00\u001b[0m\n",
            "\u001b[?25h  Installing build dependencies ... \u001b[?25l\u001b[?25hdone\n",
            "  Getting requirements to build wheel ... \u001b[?25l\u001b[?25hdone\n",
            "  Preparing metadata (pyproject.toml) ... \u001b[?25l\u001b[?25hdone\n",
            "\u001b[2K     \u001b[90m━━━━━━━━━━━━━━━━━━━━━━━━━━━━━━━━━━━━━━━━\u001b[0m \u001b[32m129.9/129.9 kB\u001b[0m \u001b[31m18.4 MB/s\u001b[0m eta \u001b[36m0:00:00\u001b[0m\n",
            "\u001b[2K     \u001b[90m━━━━━━━━━━━━━━━━━━━━━━━━━━━━━━━━━━━━━━━━\u001b[0m \u001b[32m121.1/121.1 kB\u001b[0m \u001b[31m13.1 MB/s\u001b[0m eta \u001b[36m0:00:00\u001b[0m\n",
            "\u001b[?25h  Building wheel for ibm-platform-services (pyproject.toml) ... \u001b[?25l\u001b[?25hdone\n",
            "  Building wheel for ibm-cloud-sdk-core (pyproject.toml) ... \u001b[?25l\u001b[?25hdone\n",
            "\u001b[2K     \u001b[90m━━━━━━━━━━━━━━━━━━━━━━━━━━━━━━━━━━━━━━━━\u001b[0m \u001b[32m51.2/51.2 kB\u001b[0m \u001b[31m2.0 MB/s\u001b[0m eta \u001b[36m0:00:00\u001b[0m\n",
            "\u001b[2K     \u001b[90m━━━━━━━━━━━━━━━━━━━━━━━━━━━━━━━━━━━━━━━━\u001b[0m \u001b[32m133.4/133.4 kB\u001b[0m \u001b[31m8.4 MB/s\u001b[0m eta \u001b[36m0:00:00\u001b[0m\n",
            "\u001b[?25h  Preparing metadata (setup.py) ... \u001b[?25l\u001b[?25hdone\n",
            "  Building wheel for fastdtw (setup.py) ... \u001b[?25l\u001b[?25hdone\n"
          ]
        }
      ],
      "source": [
        "# Installs the latest version of the Qiskit meta-package.\n",
        "!pip install -q qiskit -U\n",
        "!pip install -q qiskit_optimization\n",
        "!pip install -q qiskit-ibm-runtime -U\n",
        "!pip install -q python-dotenv\n",
        "!pip install -q yfinance\n",
        "!pip install -q qiskit_finance\n",
        "!pip install -q docplex"
      ]
    },
    {
      "cell_type": "code",
      "execution_count": 8,
      "id": "d0d32074",
      "metadata": {},
      "outputs": [
        {
          "name": "stdout",
          "output_type": "stream",
          "text": [
            "49\n"
          ]
        },
        {
          "name": "stderr",
          "output_type": "stream",
          "text": [
            "[*********************100%%**********************]  48 of 48 completed\n"
          ]
        }
      ],
      "source": [
        "import yfinance as yf\n",
        "nifty_50_symbols = [    \"ADANIPORTS.NS\",    \"ASIANPAINT.NS\",    \"AXISBANK.NS\",    \"BAJAJ-AUTO.NS\",    \"BAJFINANCE.NS\",    \"BAJAJFINSV.NS\",    \"BHARTIARTL.NS\",    \"BPCL.NS\",    \"BRITANNIA.NS\",    \"CIPLA.NS\",   \"COALINDIA.NS\",    \"DIVISLAB.NS\",    \"DRREDDY.NS\",\n",
        "    \"EICHERMOT.NS\",    \"GRASIM.NS\",    \"HCLTECH.NS\",    \"HDFCBANK.NS\",    \"HDFCBANK.NS\",    \"HDFCLIFE.NS\",    \"HEROMOTOCO.NS\",    \"HINDALCO.NS\",    \"HINDUNILVR.NS\",    \"ICICIBANK.NS\",    \"INDUSINDBK.NS\",    \"INFY.NS\",    \"IOC.NS\",    \"ITC.NS\",    \"JSWSTEEL.NS\",    \"KOTAKBANK.NS\",\n",
        "    \"LT.NS\",     \"M&M.NS\",    \"MARUTI.NS\",    \"NESTLEIND.NS\",    \"NTPC.NS\",    \"ONGC.NS\",    \"POWERGRID.NS\",    \"RELIANCE.NS\",    \"SHREECEM.NS\",    \"SUNPHARMA.NS\",    \"TATACONSUM.NS\",    \"TATAMOTORS.NS\",    \"TATASTEEL.NS\",    \"TECHM.NS\",\n",
        "    \"TITAN.NS\",    \"ULTRACEMCO.NS\",    \"UBL.NS\",    \"WIPRO.NS\", 'SBIN.NS', \"TCS.NS\" ]\n",
        "print(len(nifty_50_symbols))\n",
        "start_date = \"2021-02-01\"\n",
        "# end_date = \"2024-02-26\"\n",
        "\n",
        "data = yf.download(nifty_50_symbols, start= start_date)['Adj Close']\n",
        "data.to_csv(\"stock_closing_prices.csv\")"
      ]
    },
    {
      "cell_type": "code",
      "execution_count": 2,
      "id": "698bc3c3",
      "metadata": {},
      "outputs": [
        {
          "name": "stdout",
          "output_type": "stream",
          "text": [
            "            BHARTIARTL.NS  HDFCBANK.NS  HINDUNILVR.NS  ICICIBANK.NS  \\\n",
            "Date                                                                  \n",
            "2023-02-01     765.583313  1609.097046    2534.804688    841.027283   \n",
            "2023-02-02     774.193787  1585.171387    2594.476074    850.896057   \n",
            "2023-02-03     789.274536  1639.992798    2608.163086    856.747803   \n",
            "2023-02-06     785.641174  1633.022705    2597.184082    846.730286   \n",
            "2023-02-07     782.306519  1635.444824    2561.341797    845.788086   \n",
            "...                   ...          ...            ...           ...   \n",
            "2024-02-20    1143.949951  1454.300049    2404.100098   1048.750000   \n",
            "2024-02-21    1139.900024  1439.150024    2407.100098   1051.949951   \n",
            "2024-02-22    1135.550049  1419.550049    2388.100098   1062.699951   \n",
            "2024-02-23    1125.750000  1420.599976    2394.100098   1061.300049   \n",
            "2024-02-26    1110.050049  1422.300049    2404.250000   1054.199951   \n",
            "\n",
            "                INFY.NS      ITC.NS        LT.NS  RELIANCE.NS     SBIN.NS  \\\n",
            "Date                                                                        \n",
            "2023-02-01  1510.970947  348.492065  2140.722412  2152.124756  517.297546   \n",
            "2023-02-02  1542.776245  365.077759  2140.073730  2140.213867  518.033264   \n",
            "2023-02-03  1558.021484  367.054504  2161.675293  2142.099365  533.826416   \n",
            "2023-02-06  1529.235840  369.706268  2151.248779  2125.957764  535.003540   \n",
            "2023-02-07  1521.978638  359.918793  2160.427979  2120.853271  536.671082   \n",
            "...                 ...         ...          ...          ...         ...   \n",
            "2024-02-20  1685.250000  406.100006  3356.750000  2942.050049  760.099976   \n",
            "2024-02-21  1655.550049  403.350006  3296.399902  2935.399902  771.500000   \n",
            "2024-02-22  1681.349976  414.450012  3363.750000  2963.500000  765.900024   \n",
            "2024-02-23  1676.849976  411.399994  3387.949951  2987.250000  759.049988   \n",
            "2024-02-26  1660.150024  409.200012  3470.149902  2974.649902  758.900024   \n",
            "\n",
            "                 TCS.NS  \n",
            "Date                     \n",
            "2023-02-01  3350.181396  \n",
            "2023-02-02  3401.343262  \n",
            "2023-02-03  3422.869385  \n",
            "2023-02-06  3400.900879  \n",
            "2023-02-07  3413.286133  \n",
            "...                 ...  \n",
            "2024-02-20  4030.649902  \n",
            "2024-02-21  3991.500000  \n",
            "2024-02-22  4087.100098  \n",
            "2024-02-23  4052.100098  \n",
            "2024-02-26  4001.050049  \n",
            "\n",
            "[263 rows x 10 columns]\n"
          ]
        }
      ],
      "source": [
        "import pandas as pd\n",
        "import datetime\n",
        "\n",
        "# Define start and end dates\n",
        "start_date = datetime.date(2023, 2, 1)\n",
        "end_date = datetime.date(2024, 2, 26)\n",
        "\n",
        "# Read the CSV file\n",
        "stock_closing_prices_3y = pd.read_csv('stock_closing_prices.csv')\n",
        "\n",
        "# Convert 'Date' column to datetime format\n",
        "stock_closing_prices_3y['Date'] = pd.to_datetime(stock_closing_prices_3y['Date'])\n",
        "\n",
        "# Set 'Date' column as the index\n",
        "stock_closing_prices_3y = stock_closing_prices_3y.set_index('Date')\n",
        "assets = ['BHARTIARTL.NS', 'HDFCBANK.NS','HINDUNILVR.NS','ICICIBANK.NS','INFY.NS','ITC.NS','LT.NS','RELIANCE.NS','SBIN.NS','TCS.NS']\n",
        "# Filter DataFrame rows based on date range\n",
        "closing_prices_df = stock_closing_prices_3y.loc[start_date:end_date]\n",
        "closing_prices_df = closing_prices_df[assets]\n",
        "# Print the filtered DataFrame\n",
        "print(closing_prices_df)"
      ]
    },
    {
      "cell_type": "markdown",
      "id": "3409MiTDtDcr",
      "metadata": {
        "id": "3409MiTDtDcr"
      },
      "source": [
        "## Authenticaion and token"
      ]
    },
    {
      "cell_type": "code",
      "execution_count": 9,
      "id": "fRQiW7Jvv6R1",
      "metadata": {
        "id": "fRQiW7Jvv6R1"
      },
      "outputs": [
        {
          "ename": "ModuleNotFoundError",
          "evalue": "No module named 'dotenv'",
          "output_type": "error",
          "traceback": [
            "\u001b[0;31m---------------------------------------------------------------------------\u001b[0m",
            "\u001b[0;31mModuleNotFoundError\u001b[0m                       Traceback (most recent call last)",
            "Cell \u001b[0;32mIn[9], line 1\u001b[0m\n\u001b[0;32m----> 1\u001b[0m \u001b[38;5;28;01mfrom\u001b[39;00m \u001b[38;5;21;01mdotenv\u001b[39;00m \u001b[38;5;28;01mimport\u001b[39;00m load_dotenv\n\u001b[1;32m      2\u001b[0m \u001b[38;5;28;01mimport\u001b[39;00m \u001b[38;5;21;01mos\u001b[39;00m\n",
            "\u001b[0;31mModuleNotFoundError\u001b[0m: No module named 'dotenv'"
          ]
        }
      ],
      "source": [
        "from dotenv import load_dotenv\n",
        "import os"
      ]
    },
    {
      "cell_type": "code",
      "execution_count": null,
      "id": "wN2elMZ0WYzL",
      "metadata": {
        "id": "wN2elMZ0WYzL"
      },
      "outputs": [],
      "source": [
        "from qiskit_ibm_runtime import QiskitRuntimeService\n",
        "\n",
        "service = QiskitRuntimeService(channel=\"ibm_quantum\", token='IBM_Token')"
      ]
    },
    {
      "cell_type": "markdown",
      "id": "YLqOJreqrwuy",
      "metadata": {
        "id": "YLqOJreqrwuy"
      },
      "source": [
        "# import section"
      ]
    },
    {
      "cell_type": "code",
      "execution_count": null,
      "id": "c01cd12f-087d-4157-b2ca-1af4a11875f5",
      "metadata": {
        "id": "c01cd12f-087d-4157-b2ca-1af4a11875f5"
      },
      "outputs": [],
      "source": [
        "import pandas as pd\n",
        "import numpy as np\n",
        "import matplotlib.pyplot as plt\n",
        "import numpy as np\n",
        "import random\n",
        "import yfinance as yf\n",
        "import time\n",
        "from qiskit_optimization.converters import LinearEqualityToPenalty\n",
        "from qiskit_optimization import QuadraticProgram\n",
        "from qiskit.result import QuasiDistribution\n",
        "from qiskit import QuantumCircuit, transpile\n",
        "\n",
        "from qiskit_optimization.converters.quadratic_program_to_qubo import (\n",
        "    QuadraticProgramToQubo,\n",
        ")\n",
        "from qiskit_optimization.translators import from_docplex_mp\n",
        "from scipy.optimize import minimize\n",
        "from docplex.mp.model import Model\n",
        "from qiskit_optimization import QuadraticProgram\n",
        "from qiskit_optimization.translators import from_docplex_mp\n",
        "\n",
        "import time\n",
        "from qiskit_finance.applications.optimization import PortfolioOptimization\n",
        "from qiskit_optimization.algorithms import MinimumEigenOptimizer\n",
        "from qiskit_algorithms.minimum_eigensolvers import NumPyMinimumEigensolver, QAOA, SamplingVQE\n",
        "from qiskit_algorithms.minimum_eigensolvers import VQE, SamplingVQE\n",
        "from qiskit.circuit.library import QAOAAnsatz\n",
        "from qiskit.transpiler.preset_passmanagers import generate_preset_pass_manager\n",
        "from qiskit_algorithms.optimizers import  COBYLA\n",
        "from qiskit.circuit.library import RealAmplitudes, TwoLocal\n",
        "from qiskit.visualization import plot_distribution\n",
        "\n",
        "from qiskit_ibm_runtime import Estimator, Sampler, Session, Options\n",
        "from functools import partial"
      ]
    },
    {
      "cell_type": "markdown",
      "id": "sUf3MGDHr9Y5",
      "metadata": {
        "id": "sUf3MGDHr9Y5"
      },
      "source": [
        "## SORT THE ASSETS BASED ON HIGHER RETURNS"
      ]
    },
    {
      "cell_type": "markdown",
      "id": "SPHReRejeCva",
      "metadata": {
        "id": "SPHReRejeCva"
      },
      "source": [
        "## TOP 20 Stocks from NIFTY 50 Index\n",
        "\n",
        "TATA CONSULTANCY SVCS LTD\n",
        "INFOSYS LTD\n",
        "\n",
        "HDFC BANK LIMITED\n",
        "ICICI BANK LTD\n",
        "STATE BANK OF INDIA\n",
        "\n",
        "HINDUSTAN UNILEVER LTD\n",
        "ITC LTD\n",
        "\n",
        "LARSEN & TOUBRO LTD\n",
        "\n",
        "RELIANCE INDUSTRIES LTD\n",
        "\n",
        "BHARTI AIRTEL LTD\n",
        "\n",
        "HCL tech\n",
        "\n",
        "Bajaj Finance\n",
        "\n",
        "Sun Pharma\n",
        "\n",
        "Maruti Suzuki\n",
        "\n",
        "Adani Enterprizes\n",
        "\n",
        "ONGC\n",
        "\n",
        "Kotak Mahindra\n",
        "\n",
        "Axis Bank\n",
        "\n",
        "NTPC\n",
        "\n",
        "Titan"
      ]
    },
    {
      "cell_type": "code",
      "execution_count": 14,
      "id": "DKZJoOFpcCvk",
      "metadata": {
        "id": "DKZJoOFpcCvk"
      },
      "outputs": [],
      "source": []
    },
    {
      "cell_type": "code",
      "execution_count": 18,
      "id": "2Q28HYsJsCMq",
      "metadata": {
        "colab": {
          "base_uri": "https://localhost:8080/"
        },
        "id": "2Q28HYsJsCMq",
        "outputId": "471acc4e-e02d-4440-dacb-5c730922d4f7"
      },
      "outputs": [
        {
          "name": "stderr",
          "output_type": "stream",
          "text": [
            "[*********************100%%**********************]  20 of 20 completed"
          ]
        },
        {
          "name": "stdout",
          "output_type": "stream",
          "text": [
            "{'ADANIENT.NS': 0.0021293696166131268, 'AXISBANK.NS': 0.0009054530369431763, 'BAJFINANCE.NS': 0.0019899463714615345, 'BHARTIARTL.NS': 0.0005549537027955527, 'HCLTECH.NS': 0.0011318339546224012, 'HDFCBANK.NS': 0.0008781058737097007, 'HINDUNILVR.NS': 0.0008641986030538311, 'ICICIBANK.NS': 0.0009539396719166614, 'INFY.NS': 0.0007859979602713094, 'ITC.NS': 0.0005832865494002189, 'KOTAKBANK.NS': 0.0009269783587769829, 'LT.NS': 0.000797419180004607, 'MARUTI.NS': 0.0010226911726038605, 'NTPC.NS': 0.00037669326073055276, 'ONGC.NS': 0.00035100214305613844, 'RELIANCE.NS': 0.0008901119624834969, 'SBIN.NS': 0.0007133169485907463, 'SUNPHARMA.NS': 0.0007312668608109493, 'TCS.NS': 0.0008497039355562532, 'TITAN.NS': 0.0011883565383757383}\n",
            "sorted  {'ADANIENT.NS': 0.0021293696166131268, 'BAJFINANCE.NS': 0.0019899463714615345, 'TITAN.NS': 0.0011883565383757383, 'HCLTECH.NS': 0.0011318339546224012, 'MARUTI.NS': 0.0010226911726038605, 'ICICIBANK.NS': 0.0009539396719166614, 'KOTAKBANK.NS': 0.0009269783587769829, 'AXISBANK.NS': 0.0009054530369431763, 'RELIANCE.NS': 0.0008901119624834969, 'HDFCBANK.NS': 0.0008781058737097007, 'HINDUNILVR.NS': 0.0008641986030538311, 'TCS.NS': 0.0008497039355562532, 'LT.NS': 0.000797419180004607, 'INFY.NS': 0.0007859979602713094, 'SUNPHARMA.NS': 0.0007312668608109493, 'SBIN.NS': 0.0007133169485907463, 'ITC.NS': 0.0005832865494002189, 'BHARTIARTL.NS': 0.0005549537027955527, 'NTPC.NS': 0.00037669326073055276, 'ONGC.NS': 0.00035100214305613844}\n",
            "['ADANIENT.NS', 'BAJFINANCE.NS', 'TITAN.NS', 'HCLTECH.NS', 'MARUTI.NS', 'ICICIBANK.NS', 'KOTAKBANK.NS', 'AXISBANK.NS', 'RELIANCE.NS', 'HDFCBANK.NS', 'HINDUNILVR.NS', 'TCS.NS', 'LT.NS', 'INFY.NS', 'SUNPHARMA.NS', 'SBIN.NS', 'ITC.NS', 'BHARTIARTL.NS', 'NTPC.NS', 'ONGC.NS']\n"
          ]
        },
        {
          "name": "stderr",
          "output_type": "stream",
          "text": [
            "\n"
          ]
        }
      ],
      "source": [
        "start_date = \"2012-01-01\"\n",
        "end_date = \"2023-01-31\"\n",
        "\n",
        "assets = [\"TCS.NS\", \"INFY.NS\", \"HDFCBANK.NS\", \"ICICIBANK.NS\", \"SBIN.NS\", \"HINDUNILVR.NS\", \"ITC.NS\", \"LT.NS\", \"RELIANCE.NS\", \"BHARTIARTL.NS\", \"HCLTECH.NS\", \"BAJFINANCE.NS\", \"SUNPHARMA.NS\",\n",
        "          \"MARUTI.NS\", \"ADANIENT.NS\", \"ONGC.NS\", \"KOTAKBANK.NS\", \"AXISBANK.NS\", \"NTPC.NS\", \"TITAN.NS\"]\n",
        "\n",
        "# stocks_data = yf.download(assets, start = start_date, end = end_date)['Adj Close']\n",
        "\n",
        "nifty_stocks_data = pd.read_csv(\"Nifty20_stocks_data\")\n",
        "\n",
        "stocks_data = nifty_stocks_data\n",
        "stock_return = stocks_data.pct_change()\n",
        "\n",
        "returns = stock_return.mean()\n",
        "covariance = stock_return.cov()\n",
        "\n",
        "assets_names = stocks_data.columns\n",
        "\n",
        "returns = list(returns)\n",
        "tickers = list(assets_names)\n",
        "\n",
        "returns_tickers_dict = dict(zip(tickers, returns))\n",
        "\n",
        "print(returns_tickers_dict)\n",
        "\n",
        "sorted_dict = dict(sorted(returns_tickers_dict.items(), key=lambda x: x[1], reverse=True))\n",
        "print(\"sorted \", sorted_dict)\n",
        "\n",
        "top_assets_list = list(sorted_dict.keys())\n",
        "print(top_assets_list)"
      ]
    },
    {
      "cell_type": "code",
      "execution_count": 25,
      "id": "nHZfufczb8yB",
      "metadata": {
        "id": "nHZfufczb8yB"
      },
      "outputs": [],
      "source": [
        "stocks_data"
      ]
    },
    {
      "cell_type": "markdown",
      "id": "xpL0GVzlr1I_",
      "metadata": {
        "id": "xpL0GVzlr1I_"
      },
      "source": [
        " ## FORMULATION"
      ]
    },
    {
      "cell_type": "code",
      "execution_count": 20,
      "id": "ESM0l2xStcoP",
      "metadata": {
        "id": "ESM0l2xStcoP"
      },
      "outputs": [],
      "source": [
        "def create_problem(mu: np.array, sigma: np.array, qiskit_budget: int, alpha: float) -> QuadraticProgram:\n",
        "    \"\"\"Solve the quadratic program using docplex.\"\"\"\n",
        "\n",
        "    mdl = Model()\n",
        "    x = [mdl.binary_var(\"x%s\" % i) for i in range(len(sigma))]\n",
        "\n",
        "    objective = mdl.sum([mu[i] * x[i] for i in range(len(mu))])\n",
        "    objective -= alpha * mdl.sum(\n",
        "        [sigma[i, j] * x[i] * x[j] for i in range(len(mu)) for j in range(len(mu))]\n",
        "    )\n",
        "    # objective = \n",
        "    mdl.maximize(objective)\n",
        "    cost = mdl.sum(x)\n",
        "    mdl.add_constraint(cost == qiskit_budget)\n",
        "\n",
        "    qp = from_docplex_mp(mdl)\n",
        "    return qp"
      ]
    },
    {
      "cell_type": "code",
      "execution_count": 21,
      "id": "394e007a",
      "metadata": {
        "id": "394e007a"
      },
      "outputs": [],
      "source": [
        "alpha = 0.5\n",
        "\n",
        "pct_returns = stocks_data[assets].pct_change()\n",
        "\n",
        "mu = pct_returns.mean()\n",
        "sigma = pct_returns.cov()\n",
        "\n",
        "qiskit_budget = len(mu)//2\n",
        "\n",
        "mu = np.array(mu)\n",
        "sigma = np.array(sigma)"
      ]
    },
    {
      "cell_type": "code",
      "execution_count": 22,
      "id": "qE6Dwrt65JyO",
      "metadata": {
        "colab": {
          "base_uri": "https://localhost:8080/"
        },
        "id": "qE6Dwrt65JyO",
        "outputId": "4b297f6a-f9af-469d-9104-1fb9ed8efb6b"
      },
      "outputs": [
        {
          "data": {
            "text/plain": [
              "((20,), (20, 20))"
            ]
          },
          "execution_count": 22,
          "metadata": {},
          "output_type": "execute_result"
        }
      ],
      "source": [
        "mu.shape, sigma.shape"
      ]
    },
    {
      "cell_type": "code",
      "execution_count": 24,
      "id": "bc74146c",
      "metadata": {
        "id": "bc74146c"
      },
      "outputs": [],
      "source": [
        "# Run on a simulator\n",
        "backend = service.backend(\"ibmq_qasm_simulator\")\n",
        "print(backend)"
      ]
    },
    {
      "cell_type": "code",
      "execution_count": null,
      "id": "hxWrLVy2_gMD",
      "metadata": {
        "id": "hxWrLVy2_gMD"
      },
      "outputs": [],
      "source": [
        "qp = create_problem(mu, sigma, qiskit_budget, alpha)\n",
        "qubo = QuadraticProgramToQubo().convert(qp)\n",
        "qubit_op, offset = qubo.to_ising()"
      ]
    },
    {
      "cell_type": "code",
      "execution_count": null,
      "id": "7e6b55c7",
      "metadata": {
        "colab": {
          "base_uri": "https://localhost:8080/"
        },
        "id": "7e6b55c7",
        "outputId": "58f433d2-b883-4044-e70b-1adb1b586063"
      },
      "outputs": [
        {
          "name": "stdout",
          "output_type": "stream",
          "text": [
            "numpy minimum eigen solver  [1. 1. 0. 0.]\n"
          ]
        }
      ],
      "source": [
        "## numpy minimum eigen solver code\n",
        "exact_mes = NumPyMinimumEigensolver()\n",
        "exact_eigensolver = MinimumEigenOptimizer(exact_mes)\n",
        "\n",
        "numpy_min_eigensolver_result = exact_eigensolver.solve(qp)\n",
        "print(\"numpy minimum eigen solver \", numpy_min_eigensolver_result.x)"
      ]
    },
    {
      "cell_type": "code",
      "execution_count": null,
      "id": "0JrShBrA1COj",
      "metadata": {
        "colab": {
          "base_uri": "https://localhost:8080/",
          "height": 156
        },
        "id": "0JrShBrA1COj",
        "outputId": "1bd6f157-ba80-4fd4-d8b9-90a41a4463c2"
      },
      "outputs": [
        {
          "data": {
            "text/html": [
              "<pre style=\"word-wrap: normal;white-space: pre;background: #fff0;line-height: 1.1;font-family: &quot;Courier New&quot;,Courier,monospace\">     ┌───┐┌───────────────────────────────────────────────────────────────────────────────────────┐┌─────────────────────────────────────────────┐\n",
              "q_0: ┤ H ├┤0                                                                                      ├┤0                                            ├\n",
              "     ├───┤│                                                                                       ││                                             │\n",
              "q_1: ┤ H ├┤1                                                                                      ├┤1                                            ├\n",
              "     ├───┤│  exp(-it (IIIZ + IIZI + IZII + ZIII + IIZZ + IZIZ + ZIIZ + IZZI + ZIZI + ZZII))(γ[0]) ││  exp(-it (XIII + IXII + IIXI + IIIX))(β[0]) │\n",
              "q_2: ┤ H ├┤2                                                                                      ├┤2                                            ├\n",
              "     ├───┤│                                                                                       ││                                             │\n",
              "q_3: ┤ H ├┤3                                                                                      ├┤3                                            ├\n",
              "     └───┘└───────────────────────────────────────────────────────────────────────────────────────┘└─────────────────────────────────────────────┘</pre>"
            ],
            "text/plain": [
              "     ┌───┐┌───────────────────────────────────────────────────────────────────────────────────────┐┌─────────────────────────────────────────────┐\n",
              "q_0: ┤ H ├┤0                                                                                      ├┤0                                            ├\n",
              "     ├───┤│                                                                                       ││                                             │\n",
              "q_1: ┤ H ├┤1                                                                                      ├┤1                                            ├\n",
              "     ├───┤│  exp(-it (IIIZ + IIZI + IZII + ZIII + IIZZ + IZIZ + ZIIZ + IZZI + ZIZI + ZZII))(γ[0]) ││  exp(-it (XIII + IXII + IIXI + IIIX))(β[0]) │\n",
              "q_2: ┤ H ├┤2                                                                                      ├┤2                                            ├\n",
              "     ├───┤│                                                                                       ││                                             │\n",
              "q_3: ┤ H ├┤3                                                                                      ├┤3                                            ├\n",
              "     └───┘└───────────────────────────────────────────────────────────────────────────────────────┘└─────────────────────────────────────────────┘"
            ]
          },
          "execution_count": 96,
          "metadata": {},
          "output_type": "execute_result"
        }
      ],
      "source": [
        "ansatz = QAOAAnsatz(qubit_op, reps=1)\n",
        "ansatz.decompose().draw(fold=200)"
      ]
    },
    {
      "cell_type": "code",
      "execution_count": null,
      "id": "aRjMolxW1mkN",
      "metadata": {
        "colab": {
          "base_uri": "https://localhost:8080/",
          "height": 329
        },
        "id": "aRjMolxW1mkN",
        "outputId": "7ab49880-8d06-4305-cd6a-f0bb2767523d"
      },
      "outputs": [
        {
          "data": {
            "text/html": [
              "<pre style=\"word-wrap: normal;white-space: pre;background: #fff0;line-height: 1.1;font-family: &quot;Courier New&quot;,Courier,monospace\">global phase: π\n",
              "     ┌─────────┐┌────┐┌─────────┐┌───────────────────────────────┐                                                                                                                »\n",
              "q_0: ┤ Rz(π/2) ├┤ √X ├┤ Rz(π/2) ├┤ Rz(0.000891602582246076*γ[0]) ├─■───────────────────────────■───────────────────────────────────────────────────────■──────────────────────────»\n",
              "     ├─────────┤├────┤├─────────┤├───────────────────────────────┤ │ZZ(1.00594403089214*γ[0])  │                                                       │                          »\n",
              "q_1: ┤ Rz(π/2) ├┤ √X ├┤ Rz(π/2) ├┤ Rz(0.000859226104577893*γ[0]) ├─■───────────────────────────┼───────────────────────────■───────────────────────────┼──────────────────────────»\n",
              "     ├─────────┤├────┤├─────────┤├───────────────────────────────┤                             │ZZ(1.00592275707005*γ[0])  │ZZ(1.00592026605181*γ[0])  │                          »\n",
              "q_2: ┤ Rz(π/2) ├┤ √X ├┤ Rz(π/2) ├┤ Rz(0.000828317669733014*γ[0]) ├─────────────────────────────■───────────────────────────■───────────────────────────┼──────────────────────────»\n",
              "     ├─────────┤├────┤├─────────┤├───────────────────────────────┤                                                                                     │ZZ(1.00592200439483*γ[0]) »\n",
              "q_3: ┤ Rz(π/2) ├┤ √X ├┤ Rz(π/2) ├┤ Rz(0.000799704548059665*γ[0]) ├─────────────────────────────────────────────────────────────────────────────────────■──────────────────────────»\n",
              "     └─────────┘└────┘└─────────┘└───────────────────────────────┘                                                                                                                »\n",
              "«           ┌──────────────┐                                                  \n",
              "«q_0: ──────┤ Rx(2.0*β[0]) ├──────────────────────────────────────────────────\n",
              "«           └──────────────┘            ┌──────────────┐                      \n",
              "«q_1: ─■────────────────────────────────┤ Rx(2.0*β[0]) ├──────────────────────\n",
              "«      │                                └──────────────┘      ┌──────────────┐\n",
              "«q_2: ─┼───────────────────────────■──────────────────────────┤ Rx(2.0*β[0]) ├\n",
              "«      │ZZ(1.00591896515135*γ[0])  │ZZ(1.00591691464335*γ[0]) ├──────────────┤\n",
              "«q_3: ─■───────────────────────────■──────────────────────────┤ Rx(2.0*β[0]) ├\n",
              "«                                                             └──────────────┘</pre>"
            ],
            "text/plain": [
              "global phase: π\n",
              "     ┌─────────┐┌────┐┌─────────┐┌───────────────────────────────┐                                                                                                                »\n",
              "q_0: ┤ Rz(π/2) ├┤ √X ├┤ Rz(π/2) ├┤ Rz(0.000891602582246076*γ[0]) ├─■───────────────────────────■───────────────────────────────────────────────────────■──────────────────────────»\n",
              "     ├─────────┤├────┤├─────────┤├───────────────────────────────┤ │ZZ(1.00594403089214*γ[0])  │                                                       │                          »\n",
              "q_1: ┤ Rz(π/2) ├┤ √X ├┤ Rz(π/2) ├┤ Rz(0.000859226104577893*γ[0]) ├─■───────────────────────────┼───────────────────────────■───────────────────────────┼──────────────────────────»\n",
              "     ├─────────┤├────┤├─────────┤├───────────────────────────────┤                             │ZZ(1.00592275707005*γ[0])  │ZZ(1.00592026605181*γ[0])  │                          »\n",
              "q_2: ┤ Rz(π/2) ├┤ √X ├┤ Rz(π/2) ├┤ Rz(0.000828317669733014*γ[0]) ├─────────────────────────────■───────────────────────────■───────────────────────────┼──────────────────────────»\n",
              "     ├─────────┤├────┤├─────────┤├───────────────────────────────┤                                                                                     │ZZ(1.00592200439483*γ[0]) »\n",
              "q_3: ┤ Rz(π/2) ├┤ √X ├┤ Rz(π/2) ├┤ Rz(0.000799704548059665*γ[0]) ├─────────────────────────────────────────────────────────────────────────────────────■──────────────────────────»\n",
              "     └─────────┘└────┘└─────────┘└───────────────────────────────┘                                                                                                                »\n",
              "«           ┌──────────────┐                                                  \n",
              "«q_0: ──────┤ Rx(2.0*β[0]) ├──────────────────────────────────────────────────\n",
              "«           └──────────────┘            ┌──────────────┐                      \n",
              "«q_1: ─■────────────────────────────────┤ Rx(2.0*β[0]) ├──────────────────────\n",
              "«      │                                └──────────────┘      ┌──────────────┐\n",
              "«q_2: ─┼───────────────────────────■──────────────────────────┤ Rx(2.0*β[0]) ├\n",
              "«      │ZZ(1.00591896515135*γ[0])  │ZZ(1.00591691464335*γ[0]) ├──────────────┤\n",
              "«q_3: ─■───────────────────────────■──────────────────────────┤ Rx(2.0*β[0]) ├\n",
              "«                                                             └──────────────┘"
            ]
          },
          "execution_count": 97,
          "metadata": {},
          "output_type": "execute_result"
        }
      ],
      "source": [
        "target = backend.target\n",
        "pm = generate_preset_pass_manager(target=target, optimization_level=3)\n",
        "ansatz_ibm = pm.run(ansatz)\n",
        "ansatz_ibm.draw(fold=200)"
      ]
    },
    {
      "cell_type": "code",
      "execution_count": null,
      "id": "6rVA8ROT15AD",
      "metadata": {
        "colab": {
          "base_uri": "https://localhost:8080/"
        },
        "id": "6rVA8ROT15AD",
        "outputId": "f7891977-6bd3-4b29-cc1b-3f2b0275f148"
      },
      "outputs": [
        {
          "data": {
            "text/plain": [
              "SparsePauliOp(['IIIZ', 'IIZI', 'IZII', 'ZIII', 'IIZZ', 'IZIZ', 'ZIIZ', 'IZZI', 'ZIZI', 'ZZII'],\n",
              "              coeffs=[4.45801291e-04+0.j, 4.29613052e-04+0.j, 4.14158835e-04+0.j,\n",
              " 3.99852274e-04+0.j, 5.02972015e-01+0.j, 5.02961379e-01+0.j,\n",
              " 5.02961002e-01+0.j, 5.02960133e-01+0.j, 5.02959483e-01+0.j,\n",
              " 5.02958457e-01+0.j])"
            ]
          },
          "execution_count": 98,
          "metadata": {},
          "output_type": "execute_result"
        }
      ],
      "source": [
        "qubit_op_ibm = qubit_op.apply_layout(ansatz_ibm.layout)\n",
        "qubit_op_ibm"
      ]
    },
    {
      "cell_type": "code",
      "execution_count": null,
      "id": "BcFUiR7U28Yi",
      "metadata": {
        "id": "BcFUiR7U28Yi"
      },
      "outputs": [],
      "source": [
        "def cost_func(params, ansatz, hamiltonian, estimator):\n",
        "    cost = estimator.run(ansatz, hamiltonian, parameter_values=params).result().values[0]\n",
        "    return cost"
      ]
    },
    {
      "cell_type": "code",
      "execution_count": null,
      "id": "9Cbr4Dy9ydRp",
      "metadata": {
        "colab": {
          "base_uri": "https://localhost:8080/"
        },
        "id": "9Cbr4Dy9ydRp",
        "outputId": "380d6f8f-e85d-4c27-8b52-b92ef358b219"
      },
      "outputs": [
        {
          "name": "stdout",
          "output_type": "stream",
          "text": [
            "{   'fun': -0.6522969196761061,\n",
            "    'jac': None,\n",
            "    'nfev': 10,\n",
            "    'nit': None,\n",
            "    'njev': None,\n",
            "    'x': array([6.04125235, 2.54647598])}\n",
            "execution time (s): 30.74\n"
          ]
        }
      ],
      "source": [
        "## qpu code\n",
        "\n",
        "start = time.time()\n",
        "with Session(service=service, backend=backend) as session:\n",
        "\n",
        "    options = Options()\n",
        "    options.transpilation.skip_transpilation = True\n",
        "    options.execution.shots = 1024\n",
        "\n",
        "    estimator = Estimator(session=session, options=options)\n",
        "    opt = COBYLA(maxiter=10)\n",
        "    x0 = 2 * np.pi * np.random.rand(ansatz_ibm.num_parameters)\n",
        "\n",
        "    energy_fun = partial(cost_func,\n",
        "                         ansatz=ansatz_ibm,\n",
        "                         hamiltonian=qubit_op_ibm,\n",
        "                         estimator=estimator)\n",
        "\n",
        "    optimizer_result = opt.minimize(\n",
        "        fun=energy_fun,\n",
        "        x0=x0\n",
        "    )\n",
        "\n",
        "    print(optimizer_result)\n",
        "\n",
        "end = time.time()\n",
        "print(f'execution time (s): {end - start:.2f}')"
      ]
    },
    {
      "cell_type": "code",
      "execution_count": null,
      "id": "BcwIPMcQ49s6",
      "metadata": {
        "id": "BcwIPMcQ49s6"
      },
      "outputs": [],
      "source": [
        "qc = ansatz.assign_parameters(optimizer_result.x)\n",
        "qc.measure_all()\n",
        "qc_ibm = pm.run(qc)"
      ]
    },
    {
      "cell_type": "code",
      "execution_count": null,
      "id": "mgLQ7KAN4j6K",
      "metadata": {
        "colab": {
          "base_uri": "https://localhost:8080/"
        },
        "id": "mgLQ7KAN4j6K",
        "outputId": "fd7c0e4d-2c1b-41f8-ea22-bdd9ab768c8f"
      },
      "outputs": [
        {
          "name": "stdout",
          "output_type": "stream",
          "text": [
            "execution time (s): 3.38\n"
          ]
        }
      ],
      "source": [
        "## qpu code\n",
        "\n",
        "start = time.time()\n",
        "with Session(service=service, backend=backend) as session:\n",
        "\n",
        "    options = Options()\n",
        "    options.transpilation.skip_transpilation = True\n",
        "    options.execution.shots = 1024\n",
        "\n",
        "    sampler = Sampler(session=session, options=options)\n",
        "    samp_dist = sampler.run(qc_ibm).result().quasi_dists[0]\n",
        "\n",
        "end = time.time()\n",
        "print(f'execution time (s): {end - start:.2f}')"
      ]
    },
    {
      "cell_type": "code",
      "execution_count": null,
      "id": "qomr7IKW5swG",
      "metadata": {
        "colab": {
          "base_uri": "https://localhost:8080/",
          "height": 484
        },
        "id": "qomr7IKW5swG",
        "outputId": "5b7f4153-5a80-4fb0-a923-2e6ee0347774"
      },
      "outputs": [
        {
          "data": {
            "image/png": "[encoded data removed]",
            "text/plain": [
              "<Figure size 1500x500 with 1 Axes>"
            ]
          },
          "execution_count": 103,
          "metadata": {},
          "output_type": "execute_result"
        }
      ],
      "source": [
        "plot_distribution(samp_dist.binary_probabilities(), figsize=(15, 5))"
      ]
    },
    {
      "cell_type": "code",
      "execution_count": null,
      "id": "65fMNLrd500N",
      "metadata": {
        "colab": {
          "base_uri": "https://localhost:8080/"
        },
        "id": "65fMNLrd500N",
        "outputId": "4f8fee4b-15a6-4c77-e7c4-77345c5c50ea"
      },
      "outputs": [
        {
          "name": "stdout",
          "output_type": "stream",
          "text": [
            "Optimal bitstring: 1100\n"
          ]
        }
      ],
      "source": [
        "# get best measurement\n",
        "keys, values = list(samp_dist.keys()), list(samp_dist.values())\n",
        "opt_bitstring = bin(keys[np.argmax(values)])[2:].zfill(mu.shape[0])[::-1]\n",
        "\n",
        "print(\"Optimal bitstring:\", opt_bitstring)"
      ]
    },
    {
      "cell_type": "code",
      "execution_count": null,
      "id": "IoyfNmmDLTaP",
      "metadata": {
        "id": "IoyfNmmDLTaP"
      },
      "outputs": [],
      "source": []
    },
    {
      "cell_type": "code",
      "execution_count": null,
      "id": "22GZ39BtLTdB",
      "metadata": {
        "id": "22GZ39BtLTdB"
      },
      "outputs": [],
      "source": []
    },
    {
      "cell_type": "code",
      "execution_count": null,
      "id": "4SSLmU30LjJG",
      "metadata": {
        "id": "4SSLmU30LjJG"
      },
      "outputs": [],
      "source": []
    }
  ],
  "metadata": {
    "colab": {
      "provenance": []
    },
    "kernelspec": {
      "display_name": "Python 3 (ipykernel)",
      "language": "python",
      "name": "python3"
    },
    "language_info": {
      "codemirror_mode": {
        "name": "ipython",
        "version": 3
      },
      "file_extension": ".py",
      "mimetype": "text/x-python",
      "name": "python",
      "nbconvert_exporter": "python",
      "pygments_lexer": "ipython3",
      "version": "3.12.0"
    }
  },
  "nbformat": 4,
  "nbformat_minor": 5
}
